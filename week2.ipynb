{
 "cells": [
  {
   "cell_type": "markdown",
   "metadata": {},
   "source": [
    "# Course: Introduction to R Programming Language\n",
    "## Week: 2\n",
    "- Assignment: 1"
   ]
  },
  {
   "cell_type": "code",
   "execution_count": 90,
   "metadata": {
    "collapsed": false
   },
   "outputs": [
    {
     "data": {
      "text/html": [
       "4.064"
      ],
      "text/latex": [
       "4.064"
      ],
      "text/markdown": [
       "4.064"
      ],
      "text/plain": [
       "[1] 4.064"
      ]
     },
     "metadata": {},
     "output_type": "display_data"
    },
    {
     "data": {
      "text/html": [
       "1.706"
      ],
      "text/latex": [
       "1.706"
      ],
      "text/markdown": [
       "1.706"
      ],
      "text/plain": [
       "[1] 1.706"
      ]
     },
     "metadata": {},
     "output_type": "display_data"
    },
    {
     "data": {
      "text/html": [
       "1.281"
      ],
      "text/latex": [
       "1.281"
      ],
      "text/markdown": [
       "1.281"
      ],
      "text/plain": [
       "[1] 1.281"
      ]
     },
     "metadata": {},
     "output_type": "display_data"
    }
   ],
   "source": [
    "# pollutanMean calculates the mean value of the pollutant level recoreded across all dates\n",
    "pollutantMean <- function(directory, pollutant, id = 1:332)\n",
    "{\n",
    "    working_dir <- getwd()\n",
    "    \n",
    "    #initialize a vector to hold the pollutant data\n",
    "    mean_vector <- c()\n",
    "    \n",
    "    data_dir = paste(working_dir, \"/\", directory, sep = \"\")\n",
    "    all_files = as.character(list.files(data_dir))\n",
    "    file_paths = paste(data_dir, \"/\",all_files, sep = \"\")\n",
    "    \n",
    "    for (i in id)\n",
    "    {\n",
    "        current_file = read.csv(file_paths[i], header = TRUE, sep=\",\")\n",
    "        na_removed <- current_file[!is.na(current_file[, pollutant]), pollutant]\n",
    "        mean_vector <- c(mean_vector, na_removed)\n",
    "    }\n",
    "    result <- mean(mean_vector)\n",
    "    return(round(result, 3))\n",
    "}\n",
    "\n",
    "pollutantMean(\"specdata\", \"sulfate\", 1:10) \n",
    "pollutantMean(\"specdata\", \"nitrate\", 70:72) \n",
    "pollutantMean(\"specdata\", \"nitrate\", 23) \n",
    "   "
   ]
  },
  {
   "cell_type": "code",
   "execution_count": 2,
   "metadata": {
    "collapsed": false
   },
   "outputs": [
    {
     "ename": "ERROR",
     "evalue": "Error in parse(text = x, srcfile = src): <text>:4:1: unexpected SPECIAL\n3: \n4: %%\n   ^\n",
     "output_type": "error",
     "traceback": [
      "Error in parse(text = x, srcfile = src): <text>:4:1: unexpected SPECIAL\n3: \n4: %%\n   ^\nTraceback:\n"
     ]
    }
   ],
   "source": [
    "# Function reads a directory full of files and returns a dataframe where the first column is the name of the file and \n",
    "# second column is the number of complete cases in it\n",
    "\n",
    "\n",
    "complete <- function(directory, id = 1:332)\n",
    "{\n",
    "    id_len <- length(id)\n",
    "    complete_data <- rep(0, id_len)\n",
    "    \n",
    "    working_dir <- getwd()\n",
    "    \n",
    "    # find all files in the specdata folder\n",
    "    data_dir = paste(working_dir, \"/\", directory, sep = \"\")\n",
    "    all_files = as.character(list.files(data_dir))\n",
    "    file_paths = paste(data_dir, \"/\",all_files, sep = \"\")\n",
    "    \n",
    "    j <- 1\n",
    "    \n",
    "    for (i in id)\n",
    "        {\n",
    "            current_file <- read.csv(file_paths[i], header=T, sep=\",\")\n",
    "            complete_data[j] <- sum(complete.cases(current_file))\n",
    "            j <- j + 1\n",
    "            \n",
    "        }\n",
    "    result <- data.frame(id = id, nobs = complete_data)\n",
    "    return(result)\n",
    "}\n",
    "complete(\"specdata\", 1)\n",
    "complete(\"specdata\", c(2, 4, 8, 10, 12))\n",
    "complete(\"specdata\", 30:25)\n",
    "complete(\"specdata\", 3)"
   ]
  },
  {
   "cell_type": "code",
   "execution_count": 10,
   "metadata": {
    "collapsed": false
   },
   "outputs": [
    {
     "data": {
      "text/html": [
       "<ol class=list-inline>\n",
       "</ol>\n"
      ],
      "text/latex": [
       "\\begin{enumerate*}\n",
       "\\end{enumerate*}\n"
      ],
      "text/markdown": [
       "\n",
       "\n"
      ],
      "text/plain": [
       "numeric(0)"
      ]
     },
     "metadata": {},
     "output_type": "display_data"
    },
    {
     "data": {
      "text/plain": [
       "   Min. 1st Qu.  Median    Mean 3rd Qu.    Max. \n",
       "                                                "
      ]
     },
     "metadata": {},
     "output_type": "display_data"
    }
   ],
   "source": [
    "# a function that takes a directory of data files and a threshold for complete cases and calculates the correlation \n",
    "# between sulfate and nitrate for monitor locations where the number of completely observed cases (on all variables) \n",
    "#is greater than the threshold.\n",
    "\n",
    "\n",
    "corr <- function(directory, threshold)\n",
    "{\n",
    "    complete_table <- complete(\"specdata\", 1:332)\n",
    "    nobs <- complete_table$nobs\n",
    "    ids <- complete_table$ids[nobs > threshold]\n",
    "    id_len <- length(ids)\n",
    "    corr_vector <- rep(0, id_len)\n",
    "    working_dir <- getwd()\n",
    "    \n",
    "    # find all files in the specdata folder\n",
    "    data_dir = paste(working_dir, \"/\", directory, sep = \"\")\n",
    "    all_files = as.character(list.files(data_dir))\n",
    "    file_paths = paste(data_dir, \"/\",all_files, sep = \"\")\n",
    "    j <- 1\n",
    "    for(i in ids) \n",
    "    {\n",
    "        current_file <- read.csv(file_paths[i], header=T, sep=\",\")\n",
    "        corr_vector[j] <- cor(current_file$sulfate, current_file$nitrate, use=\"everything\")\n",
    "        j <- j + 1\n",
    "    }\n",
    "    result <- corr_vector\n",
    "    return(result)\n",
    "}\n",
    "\n",
    "# tests\n",
    "cr <- corr(\"specdata\", 10)\n",
    "head(cr)\n",
    "#cr <- corr(\"specdata\", 400)\n",
    "#head(cr)\n",
    "#cr <- corr(\"specdata\", 5000)\n",
    "summary(cr)"
   ]
  },
  {
   "cell_type": "code",
   "execution_count": null,
   "metadata": {
    "collapsed": true
   },
   "outputs": [],
   "source": []
  }
 ],
 "metadata": {
  "kernelspec": {
   "display_name": "R",
   "language": "R",
   "name": "ir"
  },
  "language_info": {
   "codemirror_mode": "r",
   "file_extension": ".r",
   "mimetype": "text/x-r-source",
   "name": "R",
   "pygments_lexer": "r",
   "version": "3.3.1"
  }
 },
 "nbformat": 4,
 "nbformat_minor": 0
}
# Just a commit comment 
# Another comment